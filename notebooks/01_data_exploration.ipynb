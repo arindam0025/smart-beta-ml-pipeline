{
 "cells": [
  {
   "cell_type": "markdown",
   "metadata": {},
   "source": [
    "# Smart Beta Portfolio - Data Exploration\n",
    "\n",
    "This notebook demonstrates the data collection and initial exploration for the smart beta portfolio strategy."
   ]
  },
  {
   "cell_type": "code",
   "execution_count": null,
   "metadata": {},
   "outputs": [],
   "source": [
    "# Import required libraries\n",
    "import sys\n",
    "import os\n",
    "sys.path.append('../src')\n",
    "\n",
    "import pandas as pd\n",
    "import numpy as np\n",
    "import matplotlib.pyplot as plt\n",
    "import seaborn as sns\n",
    "from datetime import datetime, timedelta\n",
    "\n",
    "# Import our data fetcher\n",
    "from data_collection.data_fetcher import DataFetcher\n",
    "\n",
    "# Set style\n",
    "plt.style.use('default')\n",
    "sns.set_palette(\"husl\")\n",
    "\n",
    "# Display options\n",
    "pd.set_option('display.max_columns', None)\n",
    "pd.set_option('display.width', None)\n",
    "pd.set_option('display.max_colwidth', None)"
   ]
  },
  {
   "cell_type": "markdown",
   "metadata": {},
   "source": [
    "## 1. Initialize Data Fetcher\n",
    "\n",
    "Let's start by initializing our data fetcher with a shorter time period for testing."
   ]
  },
  {
   "cell_type": "code",
   "execution_count": null,
   "metadata": {},
   "outputs": [],
   "source": [
    "# Initialize with recent 5 years for testing\n",
    "end_date = datetime.now().strftime('%Y-%m-%d')\n",
    "start_date = (datetime.now() - timedelta(days=5*365)).strftime('%Y-%m-%d')\n",
    "\n",
    "print(f\"Fetching data from {start_date} to {end_date}\")\n",
    "\n",
    "fetcher = DataFetcher(start_date=start_date, end_date=end_date)"
   ]
  },
  {
   "cell_type": "markdown",
   "metadata": {},
   "source": [
    "## 2. Fetch Stock Universe\n",
    "\n",
    "Get the S&P 500 stock universe."
   ]
  },
  {
   "cell_type": "code",
   "execution_count": null,
   "metadata": {},
   "outputs": [],
   "source": [
    "# Get S&P 500 tickers\n",
    "tickers = fetcher.get_sp500_universe()\n",
    "print(f\"Retrieved {len(tickers)} tickers\")\n",
    "print(f\"First 20 tickers: {tickers[:20]}\")"
   ]
  },
  {
   "cell_type": "markdown",
   "metadata": {},
   "source": [
    "## 3. Fetch Stock Price Data\n",
    "\n",
    "Let's fetch price data for a subset of stocks to test the functionality."
   ]
  },
  {
   "cell_type": "code",
   "execution_count": null,
   "metadata": {},
   "outputs": [],
   "source": [
    "# Test with first 50 stocks\n",
    "test_tickers = tickers[:50]\n",
    "\n",
    "# Fetch stock prices\n",
    "prices = fetcher.get_stock_data(test_tickers)\n",
    "print(f\"Fetched price data shape: {prices.shape}\")\n",
    "print(f\"Date range: {prices.index[0]} to {prices.index[-1]}\")\n",
    "\n",
    "# Display first few rows\n",
    "print(\"\\nFirst 5 rows of price data:\")\n",
    "prices.head()"
   ]
  },
  {
   "cell_type": "markdown",
   "metadata": {},
   "source": [
    "## 4. Calculate Returns\n",
    "\n",
    "Calculate daily returns from the price data."
   ]
  },
  {
   "cell_type": "code",
   "execution_count": null,
   "metadata": {},
   "outputs": [],
   "source": [
    "# Calculate returns\n",
    "returns = fetcher.calculate_returns(prices)\n",
    "print(f\"Returns data shape: {returns.shape}\")\n",
    "\n",
    "# Basic statistics\n",
    "print(\"\\nReturn statistics:\")\n",
    "print(f\"Mean daily return: {returns.mean().mean():.4f}\")\n",
    "print(f\"Daily volatility: {returns.std().mean():.4f}\")\n",
    "print(f\"Annualized return: {returns.mean().mean() * 252:.4f}\")\n",
    "print(f\"Annualized volatility: {returns.std().mean() * np.sqrt(252):.4f}\")\n",
    "\n",
    "# Display correlation matrix\n",
    "print(\"\\nCorrelation matrix (first 10 stocks):\")\n",
    "corr_matrix = returns.iloc[:, :10].corr()\n",
    "plt.figure(figsize=(10, 8))\n",
    "sns.heatmap(corr_matrix, annot=True, cmap='coolwarm', center=0)\n",
    "plt.title('Stock Return Correlations')\n",
    "plt.show()"
   ]
  },
  {
   "cell_type": "markdown",
   "metadata": {},
   "source": [
    "## 5. Fetch Benchmark Data\n",
    "\n",
    "Get benchmark (SPY) data for comparison."
   ]
  },
  {
   "cell_type": "code",
   "execution_count": null,
   "metadata": {},
   "outputs": [],
   "source": [
    "# Fetch benchmark\n",
    "benchmark = fetcher.get_benchmark_data()\n",
    "benchmark_returns = fetcher.calculate_returns(benchmark.to_frame()['SPY'])\n",
    "\n",
    "print(f\"Benchmark data shape: {benchmark.shape}\")\n",
    "print(f\"Benchmark annualized return: {benchmark_returns.mean() * 252:.4f}\")\n",
    "print(f\"Benchmark annualized volatility: {benchmark_returns.std() * np.sqrt(252):.4f}\")\n",
    "\n",
    "# Plot benchmark performance\n",
    "plt.figure(figsize=(12, 6))\n",
    "cumulative_returns = (1 + benchmark_returns).cumprod()\n",
    "plt.plot(cumulative_returns.index, cumulative_returns.values)\n",
    "plt.title('SPY Cumulative Returns')\n",
    "plt.xlabel('Date')\n",
    "plt.ylabel('Cumulative Return')\n",
    "plt.grid(True)\n",
    "plt.show()"
   ]
  },
  {
   "cell_type": "markdown",
   "metadata": {},
   "source": [
    "## 6. Fetch Fama-French Factors\n",
    "\n",
    "Download factor data from Ken French's library."
   ]
  },
  {
   "cell_type": "code",
   "execution_count": null,
   "metadata": {},
   "outputs": [],
   "source": [
    "# Fetch Fama-French factors\n",
    "factors = fetcher.get_fama_french_factors()\n",
    "\n",
    "if not factors.empty:\n",
    "    print(f\"Factor data shape: {factors.shape}\")\n",
    "    print(f\"Factors available: {list(factors.columns)}\")\n",
    "    \n",
    "    # Display factor statistics\n",
    "    print(\"\\nFactor Statistics (annualized):\")\n",
    "    factor_stats = pd.DataFrame({\n",
    "        'Mean Return': factors.mean() * 12,\n",
    "        'Volatility': factors.std() * np.sqrt(12),\n",
    "        'Sharpe Ratio': (factors.mean() * 12) / (factors.std() * np.sqrt(12))\n",
    "    })\n",
    "    print(factor_stats)\n",
    "    \n",
    "    # Plot factor cumulative returns\n",
    "    plt.figure(figsize=(12, 8))\n",
    "    cumulative_factors = (1 + factors).cumprod()\n",
    "    for factor in factors.columns:\n",
    "        plt.plot(cumulative_factors.index, cumulative_factors[factor], label=factor)\n",
    "    \n",
    "    plt.title('Fama-French Factor Cumulative Returns')\n",
    "    plt.xlabel('Date')\n",
    "    plt.ylabel('Cumulative Return')\n",
    "    plt.legend()\n",
    "    plt.grid(True)\n",
    "    plt.show()\n",
    "    \n",
    "else:\n",
    "    print(\"Could not fetch Fama-French factor data\")"
   ]
  },
  {
   "cell_type": "markdown",
   "metadata": {},
   "source": [
    "## 7. Fetch Macroeconomic Data\n",
    "\n",
    "Try to fetch macro data from FRED (requires API key)."
   ]
  },
  {
   "cell_type": "code",
   "execution_count": null,
   "metadata": {},
   "outputs": [],
   "source": [
    "# Fetch macro data\n",
    "macro_data = fetcher.get_macro_data()\n",
    "\n",
    "if not macro_data.empty:\n",
    "    print(f\"Macro data shape: {macro_data.shape}\")\n",
    "    print(f\"Macro variables: {list(macro_data.columns)}\")\n",
    "    \n",
    "    # Display recent values\n",
    "    print(\"\\nRecent macro data:\")\n",
    "    print(macro_data.tail())\n",
    "    \n",
    "    # Plot some key macro variables\n",
    "    plt.figure(figsize=(15, 10))\n",
    "    \n",
    "    # Plot yield curve spreads if available\n",
    "    if 'T10Y2Y' in macro_data.columns:\n",
    "        plt.subplot(2, 2, 1)\n",
    "        plt.plot(macro_data.index, macro_data['T10Y2Y'])\n",
    "        plt.title('10Y-2Y Treasury Spread')\n",
    "        plt.ylabel('Spread (%)')\n",
    "        plt.grid(True)\n",
    "    \n",
    "    # Plot unemployment rate if available\n",
    "    if 'UNRATE' in macro_data.columns:\n",
    "        plt.subplot(2, 2, 2)\n",
    "        plt.plot(macro_data.index, macro_data['UNRATE'])\n",
    "        plt.title('Unemployment Rate')\n",
    "        plt.ylabel('Rate (%)')\n",
    "        plt.grid(True)\n",
    "    \n",
    "    # Plot inflation if available\n",
    "    if 'CPIAUCSL' in macro_data.columns:\n",
    "        plt.subplot(2, 2, 3)\n",
    "        cpi_yoy = macro_data['CPIAUCSL'].pct_change(12) * 100\n",
    "        plt.plot(macro_data.index, cpi_yoy)\n",
    "        plt.title('CPI Inflation (YoY)')\n",
    "        plt.ylabel('Inflation (%)')\n",
    "        plt.grid(True)\n",
    "    \n",
    "    # Plot 10Y Treasury rate if available\n",
    "    if 'DGS10' in macro_data.columns:\n",
    "        plt.subplot(2, 2, 4)\n",
    "        plt.plot(macro_data.index, macro_data['DGS10'])\n",
    "        plt.title('10-Year Treasury Rate')\n",
    "        plt.ylabel('Rate (%)')\n",
    "        plt.grid(True)\n",
    "    \n",
    "    plt.tight_layout()\n",
    "    plt.show()\n",
    "    \n",
    "else:\n",
    "    print(\"Could not fetch macro data (FRED API key may be required)\")"
   ]
  },
  {
   "cell_type": "markdown",
   "metadata": {},
   "source": [
    "## 8. Data Quality Check\n",
    "\n",
    "Perform basic data quality checks."
   ]
  },
  {
   "cell_type": "code",
   "execution_count": null,
   "metadata": {},
   "outputs": [],
   "source": [
    "# Check for missing values in returns\n",
    "missing_data = returns.isnull().sum()\n",
    "print(\"Missing values per stock:\")\n",
    "print(missing_data[missing_data > 0].head(10))\n",
    "\n",
    "# Check for extreme returns (potential data issues)\n",
    "extreme_returns = returns[(returns > 0.5) | (returns < -0.5)]\n",
    "print(f\"\\nNumber of extreme returns (>50% or <-50%): {extreme_returns.count().sum()}\")\n",
    "\n",
    "# Distribution of returns\n",
    "plt.figure(figsize=(12, 4))\n",
    "\n",
    "plt.subplot(1, 2, 1)\n",
    "returns.iloc[:, 0].hist(bins=50, alpha=0.7)\n",
    "plt.title(f'Return Distribution - {returns.columns[0]}')\n",
    "plt.xlabel('Daily Return')\n",
    "plt.ylabel('Frequency')\n",
    "\n",
    "plt.subplot(1, 2, 2)\n",
    "returns.mean().hist(bins=30, alpha=0.7)\n",
    "plt.title('Distribution of Mean Returns Across Stocks')\n",
    "plt.xlabel('Mean Daily Return')\n",
    "plt.ylabel('Frequency')\n",
    "\n",
    "plt.tight_layout()\n",
    "plt.show()"
   ]
  },
  {
   "cell_type": "markdown",
   "metadata": {},
   "source": [
    "## 9. Save Sample Data\n",
    "\n",
    "Save our sample data for use in other notebooks."
   ]
  },
  {
   "cell_type": "code",
   "execution_count": null,
   "metadata": {},
   "outputs": [],
   "source": [
    "# Save sample data\n",
    "fetcher.save_data(prices, 'sample_prices.csv')\n",
    "fetcher.save_data(returns, 'sample_returns.csv')\n",
    "fetcher.save_data(benchmark.to_frame(), 'sample_benchmark.csv')\n",
    "\n",
    "if not factors.empty:\n",
    "    fetcher.save_data(factors, 'sample_factors.csv')\n",
    "\n",
    "if not macro_data.empty:\n",
    "    fetcher.save_data(macro_data, 'sample_macro.csv')\n",
    "\n",
    "print(\"Sample data saved successfully!\")"
   ]
  },
  {
   "cell_type": "markdown",
   "metadata": {},
   "source": [
    "## Summary\n",
    "\n",
    "This notebook demonstrated the data collection capabilities of our smart beta portfolio system:\n",
    "\n",
    "1. **Stock Universe**: Successfully retrieved S&P 500 ticker symbols\n",
    "2. **Price Data**: Fetched adjusted close prices with proper error handling\n",
    "3. **Returns**: Calculated daily returns with basic statistics\n",
    "4. **Benchmark**: Retrieved SPY data for performance comparison\n",
    "5. **Factors**: Attempted to fetch Fama-French factor data\n",
    "6. **Macro Data**: Attempted to fetch economic indicators from FRED\n",
    "7. **Quality Control**: Performed basic data quality checks\n",
    "\n",
    "Next steps:\n",
    "- Set up FRED API key for macro data access\n",
    "- Implement factor construction algorithms\n",
    "- Develop machine learning models for factor timing\n",
    "- Build portfolio optimization framework"
   ]
  }
 ],
 "metadata": {
  "kernelspec": {
   "display_name": "Python 3",
   "language": "python",
   "name": "python3"
  },
  "language_info": {
   "codemirror_mode": {
    "name": "ipython",
    "version": 3
   },
   "file_extension": ".py",
   "mimetype": "text/x-python",
   "name": "python",
   "nbconvert_exporter": "python",
   "pygments_lexer": "ipython3",
   "version": "3.13.1"
  }
 },
 "nbformat": 4,
 "nbformat_minor": 4
}
